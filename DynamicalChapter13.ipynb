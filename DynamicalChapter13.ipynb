{
 "cells": [
  {
   "cell_type": "code",
   "execution_count": 1,
   "id": "646c8e61-7f82-4f1b-9976-d137b3a9d8f6",
   "metadata": {},
   "outputs": [
    {
     "name": "stdout",
     "output_type": "stream",
     "text": [
      "x_n = 10000*1.03**n\n",
      "x(5) = $11,592.74\n"
     ]
    }
   ],
   "source": [
    "# Program 13a: Computing bank interest.\n",
    "# See Example 1.\n",
    "\n",
    "from sympy import Function, rsolve\n",
    "from sympy.abc import n\n",
    "\n",
    "x = Function('x')\n",
    "f = x(n+1) - (1 + 3/100) * x(n);\n",
    "sol = rsolve(f, x(n), {x(0):10000});\n",
    "print('x_n = {}'.format(sol))\n",
    "\n",
    "x_5 = round(sol.subs(n, 5), 2)\n",
    "print('x(5) = ${:,}'.format(x_5))"
   ]
  },
  {
   "cell_type": "code",
   "execution_count": 2,
   "id": "4bd1adbb-a6f0-427b-b50e-d40bd47077a0",
   "metadata": {},
   "outputs": [
    {
     "name": "stdout",
     "output_type": "stream",
     "text": [
      "x_n = (-2)**n/5 + 4*3**n/5\n"
     ]
    }
   ],
   "source": [
    "# Program 13b: A second order recurrence relation.\n",
    "# See Example 2.\n",
    "\n",
    "from sympy import Function, rsolve\n",
    "from sympy.abc import n\n",
    "\n",
    "x = Function('x')\n",
    "f = x(n+2) - x(n+1) - 6*x(n)\n",
    "sol = rsolve(f, x(n), {x(0):1, x(1):2})\n",
    "\n",
    "print('x_n = {}'.format(sol))"
   ]
  },
  {
   "cell_type": "code",
   "execution_count": 3,
   "id": "877db883-3d50-4492-a7f9-ba283e64ef51",
   "metadata": {},
   "outputs": [
    {
     "name": "stdout",
     "output_type": "stream",
     "text": [
      "X(50) = [[15696.]\n",
      " [ 4604.]\n",
      " [ 2249.]]\n",
      "Eigenvalues = [ 1.02304502 -0.85068938 -0.17235564]\n",
      "Eigenvectors = [[ 0.95064458 -0.92555739  0.18403341]\n",
      " [ 0.27876913  0.32640259 -0.32032617]\n",
      " [ 0.1362448  -0.19184593  0.9292593 ]]\n"
     ]
    }
   ],
   "source": [
    "# Program 13c: The Leslie matrix. See Example 4.\n",
    "# Compute the population distribution after 50 years.\n",
    "# Determine the eigenvalues and eigenvectors of a Leslie matrix.\n",
    "\n",
    "import numpy as np\n",
    "import numpy.linalg as LA\n",
    "\n",
    "L = np.array([[0,3,1], [0.3,0,0], [0,0.5,0]])\n",
    "X0 = np.array([[1000], [2000], [3000]])\n",
    "X_50 = np.dot(LA.matrix_power(L, 50), X0)\n",
    "X_50 = X_50.round()\n",
    "print('X(50) = {}'.format(X_50))\n",
    "\n",
    "dL, VL = LA.eig(L)\n",
    "print('Eigenvalues = {}'.format(dL))\n",
    "print('Eigenvectors = {}'.format(VL))"
   ]
  }
 ],
 "metadata": {
  "kernelspec": {
   "display_name": "Python 3 (ipykernel)",
   "language": "python",
   "name": "python3"
  },
  "language_info": {
   "codemirror_mode": {
    "name": "ipython",
    "version": 3
   },
   "file_extension": ".py",
   "mimetype": "text/x-python",
   "name": "python",
   "nbconvert_exporter": "python",
   "pygments_lexer": "ipython3",
   "version": "3.9.7"
  }
 },
 "nbformat": 4,
 "nbformat_minor": 5
}
